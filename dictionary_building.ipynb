{
 "cells": [
  {
   "cell_type": "code",
   "execution_count": null,
   "id": "16457bff",
   "metadata": {},
   "outputs": [],
   "source": [
    "# Imports \n",
    "\n",
    "import json\n",
    "from sqlalchemy.orm import sessionmaker\n",
    "from sqlalchemy import create_engine\n",
    "import sys\n",
    "from sqlalchemy import inspect\n",
    "import pandas as pd\n",
    "import json\n",
    "import sys\n",
    "import os\n",
    "ROOT_PATH = \"/Users/xaviborrat/Documents/GitHub/TFM_Clinical_Deterioration\"\n",
    "\n",
    "sys.path.append(ROOT_PATH)\n",
    "#importació llibreria de classes de connexio\n",
    "import classes\n",
    "from classes.xavi_con_class import db_connect as xcc"
   ]
  },
  {
   "cell_type": "code",
   "execution_count": null,
   "id": "8995320a",
   "metadata": {},
   "outputs": [],
   "source": [
    "# Connector instantiation.\n",
    "\n",
    "\n",
    "config_path = os.path.join(ROOT_PATH, 'classes/config_tfm.json')\n",
    "with open(config_path, 'r') as configDnx:\n",
    "    configDnx = json.load(configDnx)\n",
    "\n",
    "datanex= xcc(\n",
    "    ssh = configDnx[\"ssh\"],\n",
    "    ssh_user = configDnx[\"ssh_user\"],\n",
    "    ssh_host = configDnx[\"ssh_host\"],\n",
    "    ssh_pkey = configDnx[\"ssh_pkey\"],\n",
    "    db_host = configDnx[\"db_host\"],\n",
    "    db_port = configDnx[\"db_port\"],\n",
    "    db_user = configDnx[\"db_user\"],\n",
    "    db_pass = configDnx[\"db_pass\"],\n",
    "    flavour = configDnx[\"flavour\"],\n",
    "    db = configDnx[\"db\"]\n",
    ")\n"
   ]
  },
  {
   "cell_type": "code",
   "execution_count": null,
   "id": "7421bc09",
   "metadata": {},
   "outputs": [
    {
     "name": "stdout",
     "output_type": "stream",
     "text": [
      "Database [datascope4] session created...\n",
      "<> Query Sucessful <>\n",
      "Database [borrat_project] session created...\n",
      "<> Table [vitals_values_dic] created <>\n"
     ]
    }
   ],
   "source": [
    "\n",
    "# VITALS DICTIONARY \n",
    "\n",
    "# Vitals dictionary extraction from DataNex.\n",
    "Feature_values = datanex.query('datascope4',\"\"\"Select * from dic_rc_text \n",
    "                                where rc_sap_ref in (\n",
    "                                'ESTADO_CONCIENC',\n",
    "                                'CAR_RITM',\n",
    "                                'EPOC',\n",
    "                                'O2_DIS'\n",
    "                                )\"\"\") \n",
    "# Load esp_eng dictionary\n",
    "esp_eng = pd.read_csv(ROOT_PATH+'/playground/values descr spanish english.csv')\n",
    "\n",
    "# Merge the two DataFrames\n",
    "values_dict = Feature_values.merge(esp_eng, left_on='descr', right_on='Original', how='left')\n",
    "values_dict.drop(columns=['Original'], inplace=True)\n",
    "# Write the DataFrame to deterioation database.\n",
    "datanex.write_table_2('borrat_project', df=values_dict,table_name= 'vitals_values_dic')\n"
   ]
  },
  {
   "cell_type": "code",
   "execution_count": null,
   "id": "590de617",
   "metadata": {},
   "outputs": [
    {
     "name": "stdout",
     "output_type": "stream",
     "text": [
      "Database [datascope4] session created...\n",
      "<> Query Sucessful <>\n"
     ]
    }
   ],
   "source": [
    "\n",
    "# LAB DICTIONARY\n",
    "\n",
    "# Load local to LOINC dictionary.\n",
    "lab_dict = pd.read_csv(ROOT_PATH+'/playground/lab_dictionary.csv', on_bad_lines='skip',sep=';')\n",
    "loinc=lab_dict[['lab a SAP','Loinc Methode']].drop_duplicates()\n",
    "loinc.rename(columns={'lab a SAP': 'lab_sap_ref', 'Loinc Methode': 'loinc_code'}, inplace=True)\n",
    "\n",
    "# Extract lab dictionary from DataNex.\n",
    "dic_lab = datanex.query('datascope4',\"\"\"Select * from dic_lab\"\"\")\n",
    "dic_lab.drop(columns=['lab_ref'], inplace=True)\n",
    "\n",
    "# Merge loinc to DataNex Dictionary.\n",
    "dic_lab_loinc = dic_lab.merge(loinc, on='lab_sap_ref', how='left')\n",
    "dic_lab_loinc.drop_duplicates(inplace=True)\n",
    "# Write the DataFrame to DataNex database.\n",
    "datanex.write_table_2('borrat_project', df=dic_lab_loinc,table_name= 'lab_dic')"
   ]
  }
 ],
 "metadata": {
  "kernelspec": {
   "display_name": "tfm_env",
   "language": "python",
   "name": "python3"
  },
  "language_info": {
   "codemirror_mode": {
    "name": "ipython",
    "version": 3
   },
   "file_extension": ".py",
   "mimetype": "text/x-python",
   "name": "python",
   "nbconvert_exporter": "python",
   "pygments_lexer": "ipython3",
   "version": "3.9.21"
  }
 },
 "nbformat": 4,
 "nbformat_minor": 5
}
