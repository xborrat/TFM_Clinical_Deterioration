{
 "cells": [
  {
   "cell_type": "markdown",
   "metadata": {},
   "source": [
    "# Clinical Data De-Identification and Time Shifting\n",
    "\n",
    "This notebook performs data de-identification and time shifting on clinical datasets to protect patient privacy while maintaining data utility for research purposes. The process:\n",
    "\n",
    "1. Encrypts patient identifiers using a cryptographic hash with a random salt\n",
    "2. Applies a consistent time shift to all dates related to the same patient\n",
    "3. Processes multiple data tables while maintaining referential integrity\n",
    "4. Removes directly identifiable information"
   ]
  },
  {
   "cell_type": "markdown",
   "metadata": {},
   "source": [
    "## Setup and Imports\n",
    "Import necessary libraries and establish database connection."
   ]
  },
  {
   "cell_type": "code",
   "execution_count": 17,
   "metadata": {},
   "outputs": [],
   "source": [
    "# imports per postgres del pzero\n",
    "\n",
    "import json\n",
    "from sshtunnel import SSHTunnelForwarder\n",
    "from sqlalchemy.orm import sessionmaker\n",
    "from sqlalchemy import create_engine\n",
    "import sys\n",
    "from sqlalchemy import inspect\n",
    "import pandas as pd\n",
    "import os\n",
    "import json\n",
    "import sys\n",
    "\n",
    "ROOT_PATH = \"/Users/xaviborrat/Documents/GitHub/TFM_Clinical_Deterioration\"\n",
    "\n",
    "sys.path.append(ROOT_PATH)\n",
    "#importació llibreria de classes de connexio\n",
    "import classes\n",
    "from classes.xavi_con_class import db_connect as xcc\n",
    "\n",
    "\n",
    "\n"
   ]
  },
  {
   "cell_type": "markdown",
   "metadata": {},
   "source": [
    "## Database Connection\n",
    "Establish connection to the database and generate a random cryptographic salt for consistent encryption."
   ]
  },
  {
   "cell_type": "code",
   "execution_count": null,
   "metadata": {},
   "outputs": [],
   "source": [
    "\n",
    "# Connector class instatiation using config_tfm.json\n",
    "\n",
    "config_path = os.path.join(ROOT_PATH, 'classes/config_tfm.json')\n",
    "with open(config_path, 'r') as configDnx:\n",
    "    configDnx = json.load(configDnx)\n",
    "\n",
    "datanex= xcc(\n",
    "    ssh = configDnx[\"ssh\"],\n",
    "    ssh_user = configDnx[\"ssh_user\"],\n",
    "    ssh_host = configDnx[\"ssh_host\"],\n",
    "    ssh_pkey = configDnx[\"ssh_pkey\"],\n",
    "    db_host = configDnx[\"db_host\"],\n",
    "    db_port = configDnx[\"db_port\"],\n",
    "    db_user = configDnx[\"db_user\"],\n",
    "    db_pass = configDnx[\"db_pass\"],\n",
    "    flavour = configDnx[\"flavour\"],\n",
    "    db = configDnx[\"db\"]\n",
    ")\n",
    "\n",
    "\n",
    "# Random number generator\n",
    "SALT = os.urandom(32)"
   ]
  },
  {
   "cell_type": "markdown",
   "metadata": {},
   "source": [
    "## Test Encryption Function\n",
    "Demonstrate how the encryption function works with a sample value."
   ]
  },
  {
   "cell_type": "code",
   "execution_count": null,
   "metadata": {},
   "outputs": [
    {
     "data": {
      "text/plain": [
       "6655"
      ]
     },
     "execution_count": 19,
     "metadata": {},
     "output_type": "execute_result"
    }
   ],
   "source": [
    "# encryption example\n",
    "\n",
    "xcc.encrypt_to_x_digits('number=123245647344890',4, SALT)"
   ]
  },
  {
   "cell_type": "markdown",
   "metadata": {},
   "source": [
    "## Process Laboratory Data\n",
    "De-identify and time-shift laboratory test data."
   ]
  },
  {
   "cell_type": "code",
   "execution_count": 20,
   "metadata": {},
   "outputs": [
    {
     "name": "stdout",
     "output_type": "stream",
     "text": [
      "Database [datascope4] session created...\n",
      "<> Query Sucessful <>\n",
      "Database [borrat_project] session created...\n",
      "<> Table [labs_ds] created <>\n"
     ]
    }
   ],
   "source": [
    "# LABS DEID (encriptem labs) i time shift. 5 min\n",
    "\n",
    "labs = datanex.query(db='datascope4', query='select * from borrat_project.labs')\n",
    "\n",
    "\n",
    "# time shift utilitzant encriptat de patient_ref. Dintre dels temps de cada pacient mateix shift\n",
    "labs['weeks_to_add'] = labs['patient_ref'].apply(lambda x: xcc.encrypt_to_x_digits('number='+str(x),3, SALT))\n",
    "labs['weeks_to_add'] = pd.to_timedelta(labs['weeks_to_add'],unit='W')\n",
    "labs['extract_date'] = labs['extrac_date']+labs['weeks_to_add']\n",
    "\n",
    "\n",
    "# eliminació de columnes innecessaries\n",
    "labs = labs.drop(['patient_ref','weeks_to_add','extrac_date'],axis=1)\n",
    "\n",
    "\n",
    "# pujada de labs a datanex\n",
    "datanex.write_table_2(db='borrat_project', df=labs, table_name='labs_ds')"
   ]
  },
  {
   "cell_type": "markdown",
   "metadata": {},
   "source": [
    "## Process Ward Stays Data\n",
    "De-identify and time-shift ward stay data, including admission/discharge dates and patient identifiers."
   ]
  },
  {
   "cell_type": "code",
   "execution_count": 21,
   "metadata": {},
   "outputs": [
    {
     "name": "stdout",
     "output_type": "stream",
     "text": [
      "Database [datascope4] session created...\n",
      "<> Query Sucessful <>\n",
      "Database [datascope4] session created...\n",
      "<> Query Sucessful <>\n",
      "Database [borrat_project] session created...\n",
      "<> Table [ward_stays_ds] created <>\n"
     ]
    }
   ],
   "source": [
    "# WARD_STAYS DEID (encriptem ward_ward_stays) i time shift. 30 seg\n",
    "\n",
    "\n",
    "# lectura de  ward_stays\n",
    "#ward_stays = datanex.query(db='datascope4', query='select * from p_zero_phi.ward_ward_stays',parse_dates=['ward_adm_date','ward_disch_date','hosp_mortality_date,icu_los'])\n",
    "ward_stays = datanex.query(db='datascope4', query='select * from borrat_project.ward_stays ')\n",
    "\n",
    "demog = datanex.query(db='datascope4', query='select * from borrat_project.demographics',parse_dates=['birth_date'])\n",
    "\n",
    "# merge de ward_stays amb demog\n",
    "ward_stays = pd.merge(ward_stays, demog[['patient_ref','birth_date']], on='patient_ref', how='left')\n",
    "\n",
    "\n",
    "\n",
    "# # deidentifiquem  els ward_stays\n",
    "ward_stays['patient_id'] = ward_stays['patient_ref'].apply(lambda x: xcc.encrypt_to_x_digits('number='+str(x),10, SALT))\n",
    "ward_stays['episode_ref'] = ward_stays['episode_ref'].apply(lambda x: xcc.encrypt_to_x_digits('number='+str(x),10, SALT))\n",
    "\n",
    "\n",
    "#  time shift de setmanes utilitzant encriptat de patient_ref. Dintre dels temps de cada pacient mateix shift\n",
    "ward_stays['weeks_to_add'] = ward_stays['patient_ref'].apply(lambda x: xcc.encrypt_to_x_digits('number='+str(x),3, SALT))\n",
    "ward_stays['weeks_to_add'] = pd.to_timedelta(ward_stays['weeks_to_add'],unit='W')\n",
    "\n",
    "# ward_stays te 5 dates de les quals eliminarem birth_date\n",
    "ward_stays['start_date'] = ward_stays['start_date']+ward_stays['weeks_to_add']\n",
    "ward_stays['end_date'] = ward_stays['end_date']+ward_stays['weeks_to_add']\n",
    "ward_stays['hosp_adm_date'] = ward_stays['hosp_adm_date']+ward_stays['weeks_to_add']\n",
    "ward_stays['hosp_disch_date'] = ward_stays['hosp_disch_date']+ward_stays['weeks_to_add']\n",
    "ward_stays['birth_date'] = ward_stays['birth_date']+ward_stays['weeks_to_add']\n",
    "\n",
    "# calcul de l'edat a l'ingres perque elimarem edat de demografics. \n",
    "ward_stays['age_on_admission'] = ward_stays['hosp_adm_date'].apply(lambda x: x.year) - ward_stays['birth_date'].apply(lambda x: x.year)\n",
    "\n",
    "\n",
    "\n",
    "# # eliminació de columnes innecessaries\n",
    "ward_stays = ward_stays.drop(['patient_ref','birth_date','weeks_to_add'],axis=1)\n",
    "\n",
    "# # tornem a posar els noms originals\n",
    "ward_stays = ward_stays.rename(columns={'patient_id':'patient_ref'})\n",
    "\n",
    "# # afegim un id per a cada stay per a fer d'ancora per als joins\n",
    "# ward_stays['stay_id'] = range(1, len(ward_stays) + 1)\n",
    "\n",
    "# # pujada de labs a datanex\n",
    "datanex.write_table_2(db='borrat_project', df=ward_stays, table_name='ward_stays_ds')\n"
   ]
  },
  {
   "cell_type": "markdown",
   "metadata": {},
   "source": [
    "## Check Vital Signs Data\n",
    "Retrieve and examine the vital signs data after processing."
   ]
  },
  {
   "cell_type": "code",
   "execution_count": 22,
   "metadata": {},
   "outputs": [
    {
     "name": "stdout",
     "output_type": "stream",
     "text": [
      "Database [borrat_project] session created...\n",
      "<> Query Sucessful <>\n"
     ]
    },
    {
     "data": {
      "text/html": [
       "<div>\n",
       "<style scoped>\n",
       "    .dataframe tbody tr th:only-of-type {\n",
       "        vertical-align: middle;\n",
       "    }\n",
       "\n",
       "    .dataframe tbody tr th {\n",
       "        vertical-align: top;\n",
       "    }\n",
       "\n",
       "    .dataframe thead th {\n",
       "        text-align: right;\n",
       "    }\n",
       "</style>\n",
       "<table border=\"1\" class=\"dataframe\">\n",
       "  <thead>\n",
       "    <tr style=\"text-align: right;\">\n",
       "      <th></th>\n",
       "      <th>stay_id</th>\n",
       "      <th>result_date</th>\n",
       "      <th>result_num</th>\n",
       "      <th>result_txt</th>\n",
       "      <th>rc_sap_ref</th>\n",
       "    </tr>\n",
       "  </thead>\n",
       "  <tbody>\n",
       "    <tr>\n",
       "      <th>23</th>\n",
       "      <td>5765</td>\n",
       "      <td>2024-10-02 09:00:00</td>\n",
       "      <td>NaN</td>\n",
       "      <td>O2_DIS_1</td>\n",
       "      <td>O2_DIS</td>\n",
       "    </tr>\n",
       "    <tr>\n",
       "      <th>55</th>\n",
       "      <td>5765</td>\n",
       "      <td>2024-09-29 09:00:00</td>\n",
       "      <td>NaN</td>\n",
       "      <td>O2_DIS_2</td>\n",
       "      <td>O2_DIS</td>\n",
       "    </tr>\n",
       "    <tr>\n",
       "      <th>58</th>\n",
       "      <td>5765</td>\n",
       "      <td>2024-10-03 09:00:00</td>\n",
       "      <td>NaN</td>\n",
       "      <td>O2_DIS_6</td>\n",
       "      <td>O2_DIS</td>\n",
       "    </tr>\n",
       "    <tr>\n",
       "      <th>61</th>\n",
       "      <td>5765</td>\n",
       "      <td>2024-10-06 09:00:00</td>\n",
       "      <td>NaN</td>\n",
       "      <td>O2_DIS_6</td>\n",
       "      <td>O2_DIS</td>\n",
       "    </tr>\n",
       "    <tr>\n",
       "      <th>81</th>\n",
       "      <td>5765</td>\n",
       "      <td>2024-10-11 23:00:00</td>\n",
       "      <td>NaN</td>\n",
       "      <td>O2_DIS_6</td>\n",
       "      <td>O2_DIS</td>\n",
       "    </tr>\n",
       "    <tr>\n",
       "      <th>...</th>\n",
       "      <td>...</td>\n",
       "      <td>...</td>\n",
       "      <td>...</td>\n",
       "      <td>...</td>\n",
       "      <td>...</td>\n",
       "    </tr>\n",
       "    <tr>\n",
       "      <th>5992211</th>\n",
       "      <td>2529</td>\n",
       "      <td>2034-06-15 17:51:00</td>\n",
       "      <td>NaN</td>\n",
       "      <td>O2_DIS_6</td>\n",
       "      <td>O2_DIS</td>\n",
       "    </tr>\n",
       "    <tr>\n",
       "      <th>5992220</th>\n",
       "      <td>2529</td>\n",
       "      <td>2034-06-19 09:20:00</td>\n",
       "      <td>NaN</td>\n",
       "      <td>O2_DIS_6</td>\n",
       "      <td>O2_DIS</td>\n",
       "    </tr>\n",
       "    <tr>\n",
       "      <th>5992227</th>\n",
       "      <td>2529</td>\n",
       "      <td>2034-06-14 09:39:00</td>\n",
       "      <td>NaN</td>\n",
       "      <td>O2_DIS_6</td>\n",
       "      <td>O2_DIS</td>\n",
       "    </tr>\n",
       "    <tr>\n",
       "      <th>5992236</th>\n",
       "      <td>2529</td>\n",
       "      <td>2034-06-19 00:05:00</td>\n",
       "      <td>NaN</td>\n",
       "      <td>O2_DIS_6</td>\n",
       "      <td>O2_DIS</td>\n",
       "    </tr>\n",
       "    <tr>\n",
       "      <th>5992256</th>\n",
       "      <td>2529</td>\n",
       "      <td>2034-06-14 16:58:00</td>\n",
       "      <td>NaN</td>\n",
       "      <td>O2_DIS_6</td>\n",
       "      <td>O2_DIS</td>\n",
       "    </tr>\n",
       "  </tbody>\n",
       "</table>\n",
       "<p>310875 rows × 5 columns</p>\n",
       "</div>"
      ],
      "text/plain": [
       "         stay_id         result_date  result_num result_txt rc_sap_ref\n",
       "23          5765 2024-10-02 09:00:00         NaN   O2_DIS_1     O2_DIS\n",
       "55          5765 2024-09-29 09:00:00         NaN   O2_DIS_2     O2_DIS\n",
       "58          5765 2024-10-03 09:00:00         NaN   O2_DIS_6     O2_DIS\n",
       "61          5765 2024-10-06 09:00:00         NaN   O2_DIS_6     O2_DIS\n",
       "81          5765 2024-10-11 23:00:00         NaN   O2_DIS_6     O2_DIS\n",
       "...          ...                 ...         ...        ...        ...\n",
       "5992211     2529 2034-06-15 17:51:00         NaN   O2_DIS_6     O2_DIS\n",
       "5992220     2529 2034-06-19 09:20:00         NaN   O2_DIS_6     O2_DIS\n",
       "5992227     2529 2034-06-14 09:39:00         NaN   O2_DIS_6     O2_DIS\n",
       "5992236     2529 2034-06-19 00:05:00         NaN   O2_DIS_6     O2_DIS\n",
       "5992256     2529 2034-06-14 16:58:00         NaN   O2_DIS_6     O2_DIS\n",
       "\n",
       "[310875 rows x 5 columns]"
      ]
     },
     "execution_count": 22,
     "metadata": {},
     "output_type": "execute_result"
    }
   ],
   "source": [
    "vitals_ds = datanex.query(db='borrat_project', query='select * from borrat_project.vitals_ds')\n",
    "\n",
    "vitals_ds[vitals_ds.rc_sap_ref == 'O2_DIS']"
   ]
  },
  {
   "cell_type": "markdown",
   "metadata": {},
   "source": [
    "## Process Vital Signs Data\n",
    "De-identify and time-shift vital signs data."
   ]
  },
  {
   "cell_type": "code",
   "execution_count": 23,
   "metadata": {},
   "outputs": [
    {
     "name": "stdout",
     "output_type": "stream",
     "text": [
      "Database [borrat_project] session created...\n",
      "<> Query Sucessful <>\n",
      "Database [borrat_project] session created...\n",
      "<> Table [vitals_ds] created <>\n"
     ]
    }
   ],
   "source": [
    "# VITALS (encriptem identificadors) i time shift. 7 min\n",
    "\n",
    "\n",
    "# lectura de vitals de datanex_phi\n",
    "vitals = datanex.query(db='borrat_project', query='select * from vitals',parse_dates=['extrac_date'])\n",
    "\n",
    "\n",
    "# encriptem els vitals\n",
    "\n",
    "vitals['patient_deid'] = vitals['patient_ref'].apply(lambda x: xcc.encrypt_to_x_digits('number='+str(x),10, SALT))\n",
    "\n",
    "# time shift utilitzant encriptat de patient_ref. Dintre dels temps de cada pacient mateix shift\n",
    "vitals['weeks_to_add'] = vitals['patient_ref'].apply(lambda x: xcc.encrypt_to_x_digits('number='+str(x),3, SALT))\n",
    "vitals['weeks_to_add'] = pd.to_timedelta(vitals['weeks_to_add'],unit='W')\n",
    "\n",
    "# vitals te 1 dates: result_date\n",
    "vitals['result_date'] = vitals['result_date']+vitals['weeks_to_add']\n",
    "\n",
    "\n",
    "# eliminació de columnes innecessaries\n",
    "vitals = vitals.drop(['patient_ref','patient_deid','weeks_to_add'],axis=1)\n",
    "\n",
    "\n",
    "# tornem a posar els noms originals\n",
    "\n",
    "#vitals = vitals.rename(columns={'patient_deid':'patient_ref','hosp_stay_deid':'hosp_stay_id','ward_stay_deid':'ward_stay_id','vitals_datetime':'m_events_datetime'})\n",
    "\n",
    "# pujada de vitals a datanex\n",
    "\n",
    "datanex.write_table_2(db='borrat_project', df=vitals, table_name='vitals_ds')\n",
    "\n",
    "\n",
    "\n",
    "\n"
   ]
  },
  {
   "cell_type": "markdown",
   "metadata": {},
   "source": [
    "## Monitor Events Dictionary\n",
    "Code block with commented example for creating a monitor events dictionary. Not executed in current workflow."
   ]
  },
  {
   "cell_type": "code",
   "execution_count": null,
   "metadata": {},
   "outputs": [
    {
     "ename": "SyntaxError",
     "evalue": "invalid syntax (3007469307.py, line 17)",
     "output_type": "error",
     "traceback": [
      "\u001b[0;36m  Cell \u001b[0;32mIn[24], line 17\u001b[0;36m\u001b[0m\n\u001b[0;31m    1. Alert\u001b[0m\n\u001b[0m       ^\u001b[0m\n\u001b[0;31mSyntaxError\u001b[0m\u001b[0;31m:\u001b[0m invalid syntax\n"
     ]
    }
   ],
   "source": [
    "\"\"\"# MONITOR_DIC creacio del diccionari de MONITOR_EVENTS\n",
    "\n",
    "\n",
    "data = {\n",
    "    \"m_item_id\": [1, 2, 3, 4, 5, 6, 7, 8, 9, 10, 11, 12, 13, 14],\n",
    "    \"Item\": [\"conc_state\", \"hr_ecg\", \"hr_osc\", \"rr_ip\", \"rr\", \"o2_sup\", \"pa_s\", \"presn\", \"pulsiox\", \"pulse\", \"temp_axi\", \"temp_bu\", \"temp_ct\", \"temp_tim\"],\n",
    "    \"Description\": [\"Conscious state\", \"Heart rate measured by EKG\", \"Heart rate measured by oscillometry\", \"Respiratory rate measured by impedance pneumography\",\n",
    "                    \"Respiratory rate measured by other means\", \"Oxygen administration nasal catheter\", \"Invasive systolic arterial pressure\",\n",
    "                    \"Blood pressure (systolic and diastolic)\", \"Pulse oximetry monitoring\", \"Pulse rate\", \"Axillary temperature\",\n",
    "                    \"Oral temperature\", \"Core temperature measurement\", \"Tympanic Temperature\"],\n",
    "    \n",
    "    \"SNOMED_Code\": [\"pending\", 364075005, 364075005, 86290005, 86290005, 464225001, 251071003, 251070002, 284034009, 364094000, 415882003, 415945006, 386725007, 415974002]\n",
    "}\n",
    "\n",
    "# Diccionari per conc_state\n",
    "\n",
    "1. Alert\n",
    "2. Agitated\n",
    "3. Confused\n",
    "4. Responds to voice\n",
    "5. Responds to pain\n",
    "6. Unconscious\n",
    "\n",
    "\n",
    "\n",
    "# Creating a DataFrame\n",
    "monitor_dic = pd.DataFrame(data)\n",
    "\n",
    "\n",
    "# pujada de monitor_dic a datanex\n",
    "\n",
    "datanex.write_table(db='datascope4', df=monitor_dic, table_name='monitor_dic',schema='p_zero')\"\"\""
   ]
  },
  {
   "cell_type": "markdown",
   "metadata": {},
   "source": [
    "## Process Diagnostic Data\n",
    "De-identify and process medical diagnosis data."
   ]
  },
  {
   "cell_type": "code",
   "execution_count": 25,
   "metadata": {},
   "outputs": [
    {
     "name": "stdout",
     "output_type": "stream",
     "text": [
      "Database [borrat_project] session created...\n",
      "<> Query Sucessful <>\n",
      "Database [borrat_project] session created...\n",
      "<> Table [diagnostics_ds] created <>\n"
     ]
    }
   ],
   "source": [
    "# DIAGNOSTICS tambe  DEID (encriptem dx) i time shift. 14 seg. \n",
    "\n",
    "# lectura de diagnostics de datanex_phi\n",
    "diagnostics = datanex.query(db='borrat_project', query='select * from diagnostics')\n",
    "\n",
    "# encritem els diagnostics patient_ref i hosp_stay_id\n",
    "\n",
    "diagnostics['episode_ref'] = diagnostics['episode_ref'].apply(lambda x: xcc.encrypt_to_x_digits('number='+str(x),10, SALT))\n",
    "\n",
    "\n",
    "\n",
    "# eliminació de columnes innecessaries\n",
    "#diagnostics = diagnostics.drop(['patient_ref','hosp_stay_id','weeks_to_add'],axis=1)\n",
    "\n",
    "# tornem a posar els noms originals\n",
    "\n",
    "#diagnostics = diagnostics.rename(columns={'patient_deid':'patient_ref'})\n",
    "\n",
    "# afegim columna index\n",
    "\n",
    "diagnostics['diag_id'] = range(1, len(diagnostics) + 1)\n",
    "\n",
    "# pujada de diagnostics a datanex\n",
    "datanex.write_table_2(db='borrat_project', df=diagnostics, table_name='diagnostics_ds')\n",
    "\n",
    "\n",
    "\n"
   ]
  },
  {
   "cell_type": "markdown",
   "metadata": {},
   "source": [
    "## Process Demographics Data\n",
    "De-identify demographic data, removing direct identifiers while preserving necessary variables for analysis."
   ]
  },
  {
   "cell_type": "code",
   "execution_count": 26,
   "metadata": {},
   "outputs": [
    {
     "name": "stdout",
     "output_type": "stream",
     "text": [
      "Database [borrat_project] session created...\n",
      "<> Query Sucessful <>\n",
      "Database [borrat_project] session created...\n",
      "<> Table [demographics_ds] created <>\n"
     ]
    }
   ],
   "source": [
    "# DEMOG DEID\n",
    "# deid i time shift de demog\n",
    "\n",
    "# lectura de demog de datanex_phi\n",
    "demog = datanex.query(db='borrat_project', query='select * from demographics')\n",
    "\n",
    "# encriptem els demog patient_ref\n",
    "\n",
    "demog['patient_ref'] = demog['patient_ref'].apply(lambda x: xcc.encrypt_to_x_digits('number='+str(x),10, SALT))\n",
    "\n",
    "# eliminació de columnes innecessaries: eliminem data of birth perque \n",
    "# ja esta a ward_stays en forma de age_on_admission.\n",
    "\n",
    "demog = demog.drop(['birth_date'],axis=1)\n",
    "\n",
    "\n",
    "# tornem a posar els noms originals\n",
    "\n",
    "#afegim columna index\n",
    "demog['demog_id'] = range(1, len(demog) + 1)\n",
    "# pujada de demog a datanex\n",
    "datanex.write_table_2(db='borrat_project', df=demog, table_name='demographics_ds')\n"
   ]
  }
 ],
 "metadata": {
  "kernelspec": {
   "display_name": "tfm_env",
   "language": "python",
   "name": "python3"
  },
  "language_info": {
   "codemirror_mode": {
    "name": "ipython",
    "version": 3
   },
   "file_extension": ".py",
   "mimetype": "text/x-python",
   "name": "python",
   "nbconvert_exporter": "python",
   "pygments_lexer": "ipython3",
   "version": "3.9.21"
  }
 },
 "nbformat": 4,
 "nbformat_minor": 2
}
